{
 "cells": [
  {
   "cell_type": "code",
   "execution_count": 3,
   "metadata": {},
   "outputs": [
    {
     "name": "stdout",
     "output_type": "stream",
     "text": [
      "Current List:  [3, 2, 1, 1, 2, 4]\n",
      "Array manipulation, sorting, searching, and splitting using numpy\n",
      "Numpy Array:  [3 2 1 1 2 4]\n",
      "Numpy Array after sorting:  [1 1 2 2 3 4]\n",
      "Element  3  found at position:  (array([4], dtype=int64),)\n",
      "Array after splitting:  [array([1, 1, 2]), array([2, 3, 4])]\n"
     ]
    }
   ],
   "source": [
    "#Implement a python program to demonstrate the following using numpy\n",
    "#Array manipulation, sorting, searching, and splitting\n",
    "\n",
    "import numpy as np \n",
    "lt = []\n",
    "size = int(input('Enter size: '))\n",
    "for i in range(0,size):\n",
    "    ele = int(input())\n",
    "    lt.append(ele)\n",
    "\n",
    "print(\"Current List: \",lt)\n",
    "\n",
    "print(\"Array manipulation, sorting, searching, and splitting using numpy\")\n",
    "#Array manipulation\n",
    "arr = np.array(lt)\n",
    "print(\"Numpy Array: \",arr)\n",
    "\n",
    "#Array sorting\n",
    "arr = np.sort(arr)\n",
    "print(\"Numpy Array after sorting: \",arr)\n",
    "\n",
    "#Searching in array\n",
    "ele = int(input('Enter element to search'))\n",
    "index_ = np.where(arr == ele)\n",
    "print('Element ',ele,' found at position: ',index_)\n",
    "\n",
    "#Splitting the array\n",
    "splitting_value = int(input('Enter value to split: '))\n",
    "new_arr = np.split(arr,splitting_value)\n",
    "print('Array after splitting: ',new_arr)"
   ]
  },
  {
   "cell_type": "code",
   "execution_count": 5,
   "metadata": {},
   "outputs": [
    {
     "name": "stdout",
     "output_type": "stream",
     "text": [
      "[111. 188.] (2,)\n",
      "[[102. 208.]\n",
      " [132. 193.]\n",
      " [ 95. 155.]\n",
      " [ 57. 173.]] (4, 2)\n",
      "[[ -9.  20.]\n",
      " [ 21.   5.]\n",
      " [-16. -33.]\n",
      " [-54. -15.]] (4, 2)\n",
      "[21.9317122  21.58703314 36.67424164 56.04462508] (4,)\n"
     ]
    },
    {
     "data": {
      "text/plain": [
       "1"
      ]
     },
     "execution_count": 5,
     "metadata": {},
     "output_type": "execute_result"
    }
   ],
   "source": [
    "#Implement a python program to demonstrate the following using numpy\n",
    "#Broadcasting and plotting numpy array\n",
    "\n",
    "from numpy import array,argmin,sqrt,sum\n",
    "\n",
    "observation = array([111.0,188.0])\n",
    "codes = array([[102.0,208.0],[132.0,193.0],[95.0,155.0],[57.0,173.0]])\n",
    "\n",
    "diff = codes - observation\n",
    "dist = sqrt(sum(diff ** 2,axis=-1))\n",
    "\n",
    "print(observation,observation.shape)\n",
    "print(codes,codes.shape)\n",
    "print(diff,diff.shape)\n",
    "print(dist,dist.shape)\n",
    "argmin(dist)\n",
    "\n"
   ]
  }
 ],
 "metadata": {
  "kernelspec": {
   "display_name": "Python 3",
   "language": "python",
   "name": "python3"
  },
  "language_info": {
   "codemirror_mode": {
    "name": "ipython",
    "version": 3
   },
   "file_extension": ".py",
   "mimetype": "text/x-python",
   "name": "python",
   "nbconvert_exporter": "python",
   "pygments_lexer": "ipython3",
   "version": "3.12.0"
  }
 },
 "nbformat": 4,
 "nbformat_minor": 2
}
