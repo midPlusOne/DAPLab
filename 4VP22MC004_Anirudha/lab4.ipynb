{
 "cells": [
  {
   "cell_type": "code",
   "execution_count": 4,
   "id": "e6729fbc",
   "metadata": {},
   "outputs": [
    {
     "name": "stdout",
     "output_type": "stream",
     "text": [
      "09 : 45 : 00\n",
      "01 : 35 : 00\n",
      "11 : 20 : 00\n"
     ]
    }
   ],
   "source": [
    "#data encapsulation and overloading\n",
    "class Time:\n",
    "    def print_time(time):\n",
    "        print(\"%.2d : %.2d : %.2d\"%(time.hour,time.mins,time.sec))\n",
    "    \n",
    "    def __init__(self,hour = 0,mins = 0,sec = 0):\n",
    "        self.hour = hour\n",
    "        self.mins = mins\n",
    "        self.sec = sec\n",
    "    \n",
    "    def __str__(time):\n",
    "        return \"%.2d : %.2d : %.2d\"%(time.hour,time.mins,time.sec)\n",
    "    \n",
    "    def __add__(self,other):\n",
    "        seconds = self.time_to_int() + other.time_to_int()\n",
    "        return int_to_time(seconds)\n",
    "    \n",
    "    def time_to_int(time):\n",
    "        minutes = time.hour * 60 + time.mins\n",
    "        seconds = minutes * 60 + time.sec\n",
    "        return seconds\n",
    "def int_to_time(seconds):\n",
    "    time = Time()\n",
    "    minutes,time.sec = divmod(seconds,60)\n",
    "    time.hour,time.mins = divmod(minutes,60)\n",
    "    return time\n",
    "\n",
    "start = Time(9,45)\n",
    "start.print_time()\n",
    "duration = Time(1,35)\n",
    "duration.print_time()\n",
    "print(start + duration)\n"
   ]
  },
  {
   "cell_type": "code",
   "execution_count": 18,
   "id": "8e8899d3",
   "metadata": {},
   "outputs": [
    {
     "name": "stdout",
     "output_type": "stream",
     "text": [
      "-------------Triangle-------------\n",
      "Enter side 1 : 11\n",
      "Enter side 2 : 12\n",
      "Enter side 3 : 13\n",
      "Side  1  is  11.0\n",
      "Side  2  is  12.0\n",
      "Side  3  is  13.0\n",
      "The area of triangle is: 61.48\n",
      "-------------Rectangle-------------\n",
      "Enter side 1 : 13\n",
      "Enter side 2 : 14\n",
      "Side  1  is  13.0\n",
      "Side  2  is  14.0\n",
      "The area of rectangle is: 182.00\n"
     ]
    }
   ],
   "source": [
    "#demo of inheritance\n",
    "class Polygon:\n",
    "    \n",
    "    def __init__(self,sides):\n",
    "        self.side = sides\n",
    "        self.sides = [0 for i in range(sides)]\n",
    "    \n",
    "    def inputSides(self):\n",
    "        self.sides = [float(input('Enter side '+ str(i + 1) + ' : ')) for i in range(self.side)]\n",
    "        \n",
    "    def dipSides(self):\n",
    "        for i in range(self.side):\n",
    "            print(\"Side \",i+1,\" is \",self.sides[i])\n",
    "\n",
    "class Triangle(Polygon):\n",
    "    def __init__(self):\n",
    "        Polygon.__init__(self,3)\n",
    "        \n",
    "    def findArea(self):\n",
    "        a,b,c = self.sides\n",
    "        #a = self.sides[0]\n",
    "        #b = self.sides[1]\n",
    "        #c = self.sides[2]\n",
    "        \n",
    "        s = (a + b + c)/2\n",
    "        \n",
    "        area = (s * (s-a) * (s-b) * (s-c)) ** 0.5\n",
    "        print(\"The area of triangle is: %0.2f\"%area)\n",
    "\n",
    "class Rectangle(Polygon):\n",
    "    def __init__(self):\n",
    "        Polygon.__init__(self,2)\n",
    "        \n",
    "    def findArea(self):\n",
    "        l,b = self.sides\n",
    "        #l = self.sides[0]\n",
    "        #b = self.sides[1]\n",
    "        area = l * b\n",
    "        \n",
    "        print(\"The area of rectangle is: %0.2f\"%area)\n",
    "\n",
    "print(\"-------------Triangle-------------\")\n",
    "t=Triangle()\n",
    "t.inputSides()\n",
    "t.dipSides()\n",
    "t.findArea()\n",
    "print(\"-------------Rectangle-------------\")\n",
    "r=Rectangle()\n",
    "r.inputSides()\n",
    "r.dipSides()\n",
    "r.findArea()"
   ]
  },
  {
   "cell_type": "code",
   "execution_count": null,
   "id": "d325300d",
   "metadata": {},
   "outputs": [],
   "source": []
  }
 ],
 "metadata": {
  "kernelspec": {
   "display_name": "Python 3 (ipykernel)",
   "language": "python",
   "name": "python3"
  },
  "language_info": {
   "codemirror_mode": {
    "name": "ipython",
    "version": 3
   },
   "file_extension": ".py",
   "mimetype": "text/x-python",
   "name": "python",
   "nbconvert_exporter": "python",
   "pygments_lexer": "ipython3",
   "version": "3.9.7"
  }
 },
 "nbformat": 4,
 "nbformat_minor": 5
}
