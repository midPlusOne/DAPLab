{
 "cells": [
  {
   "cell_type": "code",
   "execution_count": 1,
   "id": "5c394950",
   "metadata": {},
   "outputs": [
    {
     "name": "stdout",
     "output_type": "stream",
     "text": [
      "Using for loop, break and if condition: Result is:  15\n",
      "Using while loop, break and if condition: Result is:  36\n",
      "\n",
      "\n",
      "You are inside nested if condition\n",
      "You are now in if elif else ladder\n",
      "You are now in if else  condition\n"
     ]
    }
   ],
   "source": [
    "#control and loop statement\n",
    "forSum=0\n",
    "List = [1,2,3,4,5,6,7,8,9]\n",
    "for i in List:\n",
    "    forSum += i\n",
    "    if i==5:\n",
    "        break\n",
    "print(\"Using for loop, break and if condition: Result is: \",forSum)\n",
    "whileSum=0\n",
    "itr=0\n",
    "while itr<len(List):\n",
    "    whileSum += itr\n",
    "    itr+=1\n",
    "    if(itr==4):\n",
    "        continue\n",
    "print(\"Using while loop, break and if condition: Result is: \",whileSum)\n",
    "\n",
    "print(\"\\n\")\n",
    "\n",
    "if forSum==15:\n",
    "    if whileSum==36:\n",
    "        print(\"You are inside nested if condition\")\n",
    "if forSum >15:\n",
    "    print(\"hey\")\n",
    "elif forSum==15:\n",
    "    print(\"You are now in if elif else ladder\")\n",
    "else: \n",
    "    print(\"hey there\")\n",
    "\n",
    "if whileSum!=36:\n",
    "    print(\"hmmm\")\n",
    "else:\n",
    "    print(\"You are now in if else  condition\")"
   ]
  },
  {
   "cell_type": "code",
   "execution_count": null,
   "id": "4b2742d9",
   "metadata": {},
   "outputs": [],
   "source": []
  }
 ],
 "metadata": {
  "kernelspec": {
   "display_name": "Python 3 (ipykernel)",
   "language": "python",
   "name": "python3"
  },
  "language_info": {
   "codemirror_mode": {
    "name": "ipython",
    "version": 3
   },
   "file_extension": ".py",
   "mimetype": "text/x-python",
   "name": "python",
   "nbconvert_exporter": "python",
   "pygments_lexer": "ipython3",
   "version": "3.9.7"
  }
 },
 "nbformat": 4,
 "nbformat_minor": 5
}
