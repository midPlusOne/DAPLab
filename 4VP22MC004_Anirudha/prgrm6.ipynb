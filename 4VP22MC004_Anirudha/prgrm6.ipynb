{
 "cells": [
  {
   "cell_type": "code",
   "execution_count": 1,
   "id": "f454f378",
   "metadata": {},
   "outputs": [
    {
     "name": "stdout",
     "output_type": "stream",
     "text": [
      "==== *args =====\n",
      "Result of func(1,2,3,4):  10\n",
      "Result of func(1,2,3):  6\n",
      "==== **kwargs =====\n",
      "first == 1\n",
      "mid == 2\n",
      "last == 3\n"
     ]
    }
   ],
   "source": [
    "def func(*args):\n",
    "    sum=0\n",
    "    for arg in args:\n",
    "        sum+=arg\n",
    "    return sum\n",
    "\n",
    "sum1=func(1,2,3,4)\n",
    "sum2=func(1,2,3)\n",
    "print(\"==== *args =====\")\n",
    "print(\"Result of func(1,2,3,4): \",sum1)\n",
    "print(\"Result of func(1,2,3): \",sum2)\n",
    "print(\"==== **kwargs =====\")\n",
    "def myFun(**kwargs):\n",
    "    for key, value in kwargs.items():\n",
    "        print(\"%s == %s\" % (key, value))\n",
    "myFun(first='1', mid='2', last='3')\n"
   ]
  },
  {
   "cell_type": "code",
   "execution_count": null,
   "id": "4899f23b",
   "metadata": {},
   "outputs": [],
   "source": []
  }
 ],
 "metadata": {
  "kernelspec": {
   "display_name": "Python 3 (ipykernel)",
   "language": "python",
   "name": "python3"
  },
  "language_info": {
   "codemirror_mode": {
    "name": "ipython",
    "version": 3
   },
   "file_extension": ".py",
   "mimetype": "text/x-python",
   "name": "python",
   "nbconvert_exporter": "python",
   "pygments_lexer": "ipython3",
   "version": "3.9.7"
  }
 },
 "nbformat": 4,
 "nbformat_minor": 5
}
