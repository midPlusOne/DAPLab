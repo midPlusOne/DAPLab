{
 "cells": [
  {
   "cell_type": "code",
   "execution_count": 1,
   "id": "e276cef2",
   "metadata": {},
   "outputs": [
    {
     "data": {
      "text/html": [
       "<div>\n",
       "<style scoped>\n",
       "    .dataframe tbody tr th:only-of-type {\n",
       "        vertical-align: middle;\n",
       "    }\n",
       "\n",
       "    .dataframe tbody tr th {\n",
       "        vertical-align: top;\n",
       "    }\n",
       "\n",
       "    .dataframe thead th {\n",
       "        text-align: right;\n",
       "    }\n",
       "</style>\n",
       "<table border=\"1\" class=\"dataframe\">\n",
       "  <thead>\n",
       "    <tr style=\"text-align: right;\">\n",
       "      <th></th>\n",
       "      <th>Temperature</th>\n",
       "      <th>Revenue</th>\n",
       "    </tr>\n",
       "  </thead>\n",
       "  <tbody>\n",
       "    <tr>\n",
       "      <th>0</th>\n",
       "      <td>24.566884</td>\n",
       "      <td>534.799028</td>\n",
       "    </tr>\n",
       "    <tr>\n",
       "      <th>1</th>\n",
       "      <td>26.005191</td>\n",
       "      <td>625.190122</td>\n",
       "    </tr>\n",
       "    <tr>\n",
       "      <th>2</th>\n",
       "      <td>27.790554</td>\n",
       "      <td>660.632289</td>\n",
       "    </tr>\n",
       "    <tr>\n",
       "      <th>3</th>\n",
       "      <td>20.595335</td>\n",
       "      <td>487.706960</td>\n",
       "    </tr>\n",
       "    <tr>\n",
       "      <th>4</th>\n",
       "      <td>11.503498</td>\n",
       "      <td>316.240194</td>\n",
       "    </tr>\n",
       "  </tbody>\n",
       "</table>\n",
       "</div>"
      ],
      "text/plain": [
       "   Temperature     Revenue\n",
       "0    24.566884  534.799028\n",
       "1    26.005191  625.190122\n",
       "2    27.790554  660.632289\n",
       "3    20.595335  487.706960\n",
       "4    11.503498  316.240194"
      ]
     },
     "execution_count": 1,
     "metadata": {},
     "output_type": "execute_result"
    }
   ],
   "source": [
    "#Generation of Linear Regression\n",
    "import pandas as pd\n",
    "import numpy as np\n",
    "import matplotlib.pyplot as plt\n",
    "import seaborn as sns\n",
    "from sklearn.model_selection import train_test_split\n",
    "from sklearn.linear_model import LinearRegression\n",
    "\n",
    "data = pd.read_csv('/home/mcacnj/Desktop/4VP22MC004_Anirudha/Dataset/IceCreamData.csv')\n",
    "data.head(5)"
   ]
  },
  {
   "cell_type": "code",
   "execution_count": 2,
   "id": "477bc88a",
   "metadata": {},
   "outputs": [],
   "source": [
    "x = data[['Temperature']]\n",
    "y = data[['Revenue']]\n",
    "x_train,x_test,y_train,y_test = train_test_split(x,y,test_size=0.2,random_state=42)"
   ]
  },
  {
   "cell_type": "code",
   "execution_count": 3,
   "id": "c7bf66cc",
   "metadata": {},
   "outputs": [
    {
     "name": "stdout",
     "output_type": "stream",
     "text": [
      "Linear model Coefficient (M):  [[21.38197386]]\n",
      "Linear model Intercept (b):  [46.80464128]\n"
     ]
    }
   ],
   "source": [
    "regressor = LinearRegression(fit_intercept=True)\n",
    "regressor.fit(x_train,y_train)\n",
    "print('Linear model Coefficient (M): ',regressor.coef_)\n",
    "print('Linear model Intercept (b): ',regressor.intercept_)"
   ]
  },
  {
   "cell_type": "code",
   "execution_count": 4,
   "id": "93ee21fe",
   "metadata": {},
   "outputs": [
    {
     "data": {
      "text/plain": [
       "array([[681.93870622],\n",
       "       [632.14474995],\n",
       "       [559.64360486],\n",
       "       [498.90609993],\n",
       "       [615.45939165],\n",
       "       [304.72417213],\n",
       "       [285.79420948],\n",
       "       [315.60842003],\n",
       "       [506.26427154],\n",
       "       [685.69744019],\n",
       "       [723.96030494],\n",
       "       [400.84625166],\n",
       "       [431.61634142],\n",
       "       [671.36600031],\n",
       "       [ 52.51422053],\n",
       "       [198.77682819],\n",
       "       [523.08595488],\n",
       "       [563.90495549],\n",
       "       [583.83579144],\n",
       "       [682.24517768],\n",
       "       [556.2285085 ],\n",
       "       [783.88766163],\n",
       "       [655.44109362],\n",
       "       [570.0735459 ],\n",
       "       [912.21841974],\n",
       "       [664.74778505],\n",
       "       [315.96428407],\n",
       "       [631.00983241],\n",
       "       [731.1169322 ],\n",
       "       [698.02984963],\n",
       "       [435.08453949],\n",
       "       [471.22058847],\n",
       "       [710.29440571],\n",
       "       [799.81874771],\n",
       "       [641.02153776],\n",
       "       [493.66044553],\n",
       "       [744.9247237 ],\n",
       "       [318.10831232],\n",
       "       [262.69083171],\n",
       "       [132.04437543],\n",
       "       [582.55738268],\n",
       "       [230.41054193],\n",
       "       [547.29799783],\n",
       "       [393.00654153],\n",
       "       [436.66704225],\n",
       "       [593.02780835],\n",
       "       [572.09312165],\n",
       "       [125.16251036],\n",
       "       [474.79444877],\n",
       "       [530.45025905],\n",
       "       [623.19251713],\n",
       "       [503.4813544 ],\n",
       "       [484.60103791],\n",
       "       [498.58705266],\n",
       "       [551.22738648],\n",
       "       [630.80646076],\n",
       "       [573.12703075],\n",
       "       [679.486141  ],\n",
       "       [171.29759926],\n",
       "       [660.49458416],\n",
       "       [583.75017395],\n",
       "       [704.57274239],\n",
       "       [535.82240023],\n",
       "       [630.12763484],\n",
       "       [676.79854535],\n",
       "       [411.36168509],\n",
       "       [508.88286115],\n",
       "       [494.71237942],\n",
       "       [731.12113825],\n",
       "       [312.64970607],\n",
       "       [318.45658383],\n",
       "       [454.48599433],\n",
       "       [795.88908859],\n",
       "       [424.3427197 ],\n",
       "       [520.47071347],\n",
       "       [688.86698747],\n",
       "       [804.96958246],\n",
       "       [448.21981638],\n",
       "       [493.70018478],\n",
       "       [493.61560689],\n",
       "       [546.05307987],\n",
       "       [520.86863586],\n",
       "       [663.24179618],\n",
       "       [547.66983485],\n",
       "       [589.3531778 ],\n",
       "       [697.41089087],\n",
       "       [239.06622088],\n",
       "       [626.63543807],\n",
       "       [585.44702174],\n",
       "       [768.32242947],\n",
       "       [428.92615255],\n",
       "       [522.0216248 ],\n",
       "       [610.64187899],\n",
       "       [353.88023698],\n",
       "       [562.40093312],\n",
       "       [580.5082378 ],\n",
       "       [640.80655591],\n",
       "       [662.39383884],\n",
       "       [413.13762416],\n",
       "       [442.01067869]])"
      ]
     },
     "execution_count": 4,
     "metadata": {},
     "output_type": "execute_result"
    }
   ],
   "source": [
    "x_test.shape\n",
    "y_predict = regressor.predict(x_test)\n",
    "y_predict"
   ]
  },
  {
   "cell_type": "code",
   "execution_count": 5,
   "id": "c447bab9",
   "metadata": {},
   "outputs": [
    {
     "data": {
      "text/plain": [
       "Text(0.5, 1.0, 'Revenue vs Temperature at Icecream stand (Training set)')"
      ]
     },
     "execution_count": 5,
     "metadata": {},
     "output_type": "execute_result"
    },
    {
     "data": {
      "image/png": "[encoded data removed]",
      "text/plain": [
       "<Figure size 432x288 with 1 Axes>"
      ]
     },
     "metadata": {
      "needs_background": "light"
     },
     "output_type": "display_data"
    }
   ],
   "source": [
    "y_test\n",
    "plt.scatter(x_train,y_train,color='blue')\n",
    "plt.plot(x_train,regressor.predict(x_train),color='red')\n",
    "plt.xlabel('Temperature [DegC]')\n",
    "plt.ylabel('Revenue [Dollars]')\n",
    "plt.title('Revenue vs Temperature at Icecream stand (Training set)')"
   ]
  },
  {
   "cell_type": "code",
   "execution_count": 6,
   "id": "5f28d0ff",
   "metadata": {},
   "outputs": [
    {
     "data": {
      "text/plain": [
       "Text(0.5, 1.0, 'Revenue Generated vs Temperature @ Icecream stand (Training set)')"
      ]
     },
     "execution_count": 6,
     "metadata": {},
     "output_type": "execute_result"
    },
    {
     "data": {
      "image/png": "[encoded data removed]",
      "text/plain": [
       "<Figure size 432x288 with 1 Axes>"
      ]
     },
     "metadata": {
      "needs_background": "light"
     },
     "output_type": "display_data"
    }
   ],
   "source": [
    "#scatter plot on testing data\n",
    "plt.scatter(x_test,y_test,color='blue')\n",
    "plt.plot(x_test,regressor.predict(x_test),color='red')\n",
    "plt.xlabel('Temperature [DegC]')\n",
    "plt.ylabel('Revenue [$]')\n",
    "plt.title('Revenue Generated vs Temperature @ Icecream stand (Training set)')"
   ]
  },
  {
   "cell_type": "code",
   "execution_count": 7,
   "id": "d51e0d3e",
   "metadata": {},
   "outputs": [
    {
     "name": "stdout",
     "output_type": "stream",
     "text": [
      "----- 0 -----\n",
      "[[46.80464128]]\n",
      "----- 35 -----\n",
      "[[795.17372621]]\n",
      "----- 55 -----\n",
      "[[1222.81320332]]\n"
     ]
    }
   ],
   "source": [
    "print('----- 0 -----')\n",
    "Temp = 0\n",
    "Revenue = regressor.predict([[Temp]])\n",
    "print(Revenue)\n",
    "print('----- 35 -----')\n",
    "Temp = 35\n",
    "Revenue = regressor.predict([[Temp]])\n",
    "print(Revenue)\n",
    "print('----- 55 -----')\n",
    "Temp = 55\n",
    "Revenue = regressor.predict([[Temp]])\n",
    "print(Revenue)"
   ]
  },
  {
   "cell_type": "code",
   "execution_count": null,
   "id": "cca22853",
   "metadata": {},
   "outputs": [],
   "source": []
  }
 ],
 "metadata": {
  "kernelspec": {
   "display_name": "Python 3 (ipykernel)",
   "language": "python",
   "name": "python3"
  },
  "language_info": {
   "codemirror_mode": {
    "name": "ipython",
    "version": 3
   },
   "file_extension": ".py",
   "mimetype": "text/x-python",
   "name": "python",
   "nbconvert_exporter": "python",
   "pygments_lexer": "ipython3",
   "version": "3.9.7"
  }
 },
 "nbformat": 4,
 "nbformat_minor": 5
}
