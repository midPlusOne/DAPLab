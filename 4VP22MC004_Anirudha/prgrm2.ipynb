{
 "cells": [
  {
   "cell_type": "code",
   "execution_count": 1,
   "id": "d5f3c824",
   "metadata": {},
   "outputs": [
    {
     "name": "stdout",
     "output_type": "stream",
     "text": [
      "Operator precedence\n",
      "-12\n",
      "Operator precedence goes like this: \n",
      " (a+c)=33 -> \n",
      " b%(a+c)=100%33=1 -> \n",
      " a*b%(a+c)=10*1=10 -> \n",
      " a*b%(a+c)//c=10//23=0 -> \n",
      " a*b%(a+c)//c-d=0-12=-12 \n",
      " Hence the result is -12\n"
     ]
    }
   ],
   "source": [
    "print(\"Operator precedence\")\n",
    "a=10\n",
    "b=100\n",
    "c=23\n",
    "d=12\n",
    "res=a*b%(a+c)//c-d\n",
    "print(res)\n",
    "print(\"Operator precedence goes like this: \\n (a+c)=33 -> \\n b%(a+c)=100%33=1 -> \\n a*b%(a+c)=10*1=10 -> \\n a*b%(a+c)//c=10//23=0 -> \\n a*b%(a+c)//c-d=0-12=-12 \\n Hence the result is -12\")"
   ]
  },
  {
   "cell_type": "code",
   "execution_count": null,
   "id": "e611701d",
   "metadata": {},
   "outputs": [],
   "source": []
  }
 ],
 "metadata": {
  "kernelspec": {
   "display_name": "Python 3 (ipykernel)",
   "language": "python",
   "name": "python3"
  },
  "language_info": {
   "codemirror_mode": {
    "name": "ipython",
    "version": 3
   },
   "file_extension": ".py",
   "mimetype": "text/x-python",
   "name": "python",
   "nbconvert_exporter": "python",
   "pygments_lexer": "ipython3",
   "version": "3.9.7"
  }
 },
 "nbformat": 4,
 "nbformat_minor": 5
}
