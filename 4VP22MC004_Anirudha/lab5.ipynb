{
 "cells": [
  {
   "cell_type": "code",
   "execution_count": 9,
   "id": "445a0d4b",
   "metadata": {},
   "outputs": [
    {
     "name": "stdout",
     "output_type": "stream",
     "text": [
      "[111. 188.] (2,)\n",
      "[[102. 203.]\n",
      " [132. 193.]\n",
      " [ 45. 155.]\n",
      " [ 57. 173.]] (4, 2)\n",
      "[[ -9.  15.]\n",
      " [ 21.   5.]\n",
      " [-66. -33.]\n",
      " [-54. -15.]] (4, 2)\n",
      "[17.49285568 21.58703314 73.79024326 56.04462508] (4,)\n"
     ]
    },
    {
     "data": {
      "text/plain": [
       "2"
      ]
     },
     "execution_count": 9,
     "metadata": {},
     "output_type": "execute_result"
    }
   ],
   "source": [
    "#Broadcasting and plotting numpy array\n",
    "\n",
    "from numpy import array,argmin,sqrt,sum,argmax\n",
    "\n",
    "observation = array([111.0,188.0])\n",
    "codes = array([[102.0,203.0],[132.0,193.0],[45.0,155.0],[57.0,173.0]])\n",
    "\n",
    "diff = codes - observation\n",
    "dist = sqrt(sum(diff ** 2,axis=-1))\n",
    "\n",
    "print(observation,observation.shape)\n",
    "print(codes,codes.shape)\n",
    "print(diff,diff.shape)\n",
    "print(dist,dist.shape)\n",
    "argmin(dist)\n",
    "argmax(dist)"
   ]
  },
  {
   "cell_type": "code",
   "execution_count": 14,
   "id": "81d1f7d0",
   "metadata": {},
   "outputs": [
    {
     "name": "stdout",
     "output_type": "stream",
     "text": [
      "Enter size: 5\n",
      "3\n",
      "2\n",
      "1\n",
      "4\n",
      "7\n",
      "Current List:  [3, 2, 1, 4, 7]\n",
      "Array manipulation, sorting, searching, and splitting using numpy\n",
      "Numpy Array:  [3 2 1 4 7]\n",
      "Numpy Array after sorting:  [1 2 3 4 7]\n",
      "Enter element to search: 8\n",
      "Element  8  found at position:  (array([], dtype=int64),)\n",
      "Enter value to split: 8\n",
      "Array after splitting:  [array([1]), array([2]), array([3]), array([4]), array([7]), array([], dtype=int64), array([], dtype=int64), array([], dtype=int64)]\n"
     ]
    }
   ],
   "source": [
    "#Implement a python program to demonstrate the following using numpy\n",
    "#Array manipulation, sorting, searching, and splitting\n",
    "\n",
    "import numpy as np \n",
    "lt = []\n",
    "size = int(input('Enter size: '))\n",
    "for i in range(0,size):\n",
    "    ele = int(input())\n",
    "    lt.append(ele)\n",
    "\n",
    "print(\"Current List: \",lt)\n",
    "\n",
    "print(\"Array manipulation, sorting, searching, and splitting using numpy\")\n",
    "#Array manipulation\n",
    "arr = np.array(lt)\n",
    "print(\"Numpy Array: \",arr)\n",
    "\n",
    "#Array sorting\n",
    "arr = np.sort(arr)\n",
    "print(\"Numpy Array after sorting: \",arr)\n",
    "\n",
    "#Searching in array\n",
    "ele = int(input('Enter element to search: '))\n",
    "index_ = np.where(arr == ele)\n",
    "print('Element ',ele,' found at position: ',index_)\n",
    "\n",
    "#Splitting the array\n",
    "splitting_value = int(input('Enter value to split: '))\n",
    "new_arr = np.array_split(arr,splitting_value)\n",
    "print('Array after splitting: ',new_arr)"
   ]
  },
  {
   "cell_type": "code",
   "execution_count": null,
   "id": "7f154d61",
   "metadata": {},
   "outputs": [],
   "source": []
  }
 ],
 "metadata": {
  "kernelspec": {
   "display_name": "Python 3 (ipykernel)",
   "language": "python",
   "name": "python3"
  },
  "language_info": {
   "codemirror_mode": {
    "name": "ipython",
    "version": 3
   },
   "file_extension": ".py",
   "mimetype": "text/x-python",
   "name": "python",
   "nbconvert_exporter": "python",
   "pygments_lexer": "ipython3",
   "version": "3.9.7"
  }
 },
 "nbformat": 4,
 "nbformat_minor": 5
}
