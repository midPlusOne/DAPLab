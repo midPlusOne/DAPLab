{
 "cells": [
  {
   "cell_type": "code",
   "execution_count": 1,
   "id": "4bab7343",
   "metadata": {},
   "outputs": [
    {
     "name": "stdout",
     "output_type": "stream",
     "text": [
      "Enter ele: 5\n",
      "[5]\n",
      "Do you want to continue: 1\n",
      "Enter ele: 4\n",
      "[4, 5]\n",
      "Do you want to continue: 1\n",
      "Enter ele: 1\n",
      "[1, 4, 5]\n",
      "Do you want to continue: 1\n",
      "Enter ele: 3\n",
      "[1, 3, 4, 5]\n",
      "Do you want to continue: 0\n"
     ]
    }
   ],
   "source": [
    "#insert an element to a sorted list\n",
    "List = []\n",
    "fg = 1\n",
    "while fg:\n",
    "    val = int(input(\"Enter ele: \"))\n",
    "    \n",
    "    pos = len(List) - 1\n",
    "    \n",
    "    while pos >= 0:\n",
    "        if val > List[pos]:\n",
    "            break\n",
    "        pos -= 1\n",
    "    if(len(List) == 0 or pos == len(List) - 1):\n",
    "        List.append(val)\n",
    "    else:\n",
    "        List.insert(pos + 1,val)\n",
    "    print(List)\n",
    "    fg = int(input(\"Do you want to continue: \"))"
   ]
  },
  {
   "cell_type": "code",
   "execution_count": null,
   "id": "69cb800d",
   "metadata": {},
   "outputs": [],
   "source": []
  }
 ],
 "metadata": {
  "kernelspec": {
   "display_name": "Python 3 (ipykernel)",
   "language": "python",
   "name": "python3"
  },
  "language_info": {
   "codemirror_mode": {
    "name": "ipython",
    "version": 3
   },
   "file_extension": ".py",
   "mimetype": "text/x-python",
   "name": "python",
   "nbconvert_exporter": "python",
   "pygments_lexer": "ipython3",
   "version": "3.9.7"
  }
 },
 "nbformat": 4,
 "nbformat_minor": 5
}
