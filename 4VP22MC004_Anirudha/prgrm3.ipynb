{
 "cells": [
  {
   "cell_type": "code",
   "execution_count": 1,
   "id": "129433ff",
   "metadata": {},
   "outputs": [
    {
     "name": "stdout",
     "output_type": "stream",
     "text": [
      "Here are python dat types: \n",
      "String: name =  This is a string\n",
      "Integer: num =  10\n",
      "Floating number: fltnum =  10.1\n",
      "Boolean: boolean =  True\n",
      "List: List =  ['1', '2']\n",
      "Set: Set =  {'2', '1'}\n",
      "Tuple: Tuple =  ('1', '2')\n",
      "Dictionaries: Dict =  {1: '1', 2: '2'}\n"
     ]
    }
   ],
   "source": [
    "name=\"This is a string\"\n",
    "num=10\n",
    "fltnum=10.1\n",
    "boolean=True\n",
    "List=[\"1\",\"2\"]\n",
    "Set={\"1\",\"2\"}\n",
    "Tuple=(\"1\",\"2\")\n",
    "Dict={1:\"1\",2:\"2\"}\n",
    "print(\"Here are python dat types: \")\n",
    "print(\"String: name = \",name)\n",
    "print(\"Integer: num = \",num)\n",
    "print(\"Floating number: fltnum = \",fltnum)\n",
    "print(\"Boolean: boolean = \",boolean)\n",
    "print(\"List: List = \",List)\n",
    "print(\"Set: Set = \",Set)\n",
    "print(\"Tuple: Tuple = \",Tuple)\n",
    "print(\"Dictionaries: Dict = \",Dict)"
   ]
  },
  {
   "cell_type": "code",
   "execution_count": null,
   "id": "0cc47fd9",
   "metadata": {},
   "outputs": [],
   "source": []
  }
 ],
 "metadata": {
  "kernelspec": {
   "display_name": "Python 3 (ipykernel)",
   "language": "python",
   "name": "python3"
  },
  "language_info": {
   "codemirror_mode": {
    "name": "ipython",
    "version": 3
   },
   "file_extension": ".py",
   "mimetype": "text/x-python",
   "name": "python",
   "nbconvert_exporter": "python",
   "pygments_lexer": "ipython3",
   "version": "3.9.7"
  }
 },
 "nbformat": 4,
 "nbformat_minor": 5
}
