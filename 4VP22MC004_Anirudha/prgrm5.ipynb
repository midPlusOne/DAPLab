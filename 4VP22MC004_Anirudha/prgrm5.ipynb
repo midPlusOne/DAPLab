{
 "cells": [
  {
   "cell_type": "code",
   "execution_count": 1,
   "id": "fd6889f4",
   "metadata": {},
   "outputs": [
    {
     "name": "stdout",
     "output_type": "stream",
     "text": [
      "print() is an example of built in function\n",
      "Heres the result of addIt(10,20) a usewr defined function:  30\n"
     ]
    }
   ],
   "source": [
    "print(\"print() is an example of built in function\")\n",
    "def addIt(a,b):\n",
    "    return a+b\n",
    "sum=addIt(10,20)\n",
    "print(\"Heres the result of addIt(10,20) a usewr defined function: \",sum)"
   ]
  },
  {
   "cell_type": "code",
   "execution_count": null,
   "id": "d41269bf",
   "metadata": {},
   "outputs": [],
   "source": []
  }
 ],
 "metadata": {
  "kernelspec": {
   "display_name": "Python 3 (ipykernel)",
   "language": "python",
   "name": "python3"
  },
  "language_info": {
   "codemirror_mode": {
    "name": "ipython",
    "version": 3
   },
   "file_extension": ".py",
   "mimetype": "text/x-python",
   "name": "python",
   "nbconvert_exporter": "python",
   "pygments_lexer": "ipython3",
   "version": "3.9.7"
  }
 },
 "nbformat": 4,
 "nbformat_minor": 5
}
