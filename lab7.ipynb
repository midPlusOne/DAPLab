{
 "cells": [
  {
   "cell_type": "code",
   "execution_count": 3,
   "id": "9dc92a2f",
   "metadata": {},
   "outputs": [
    {
     "data": {
      "text/plain": [
       "[[55, 46, 169, 252, 220],\n",
       " [148, 75, 25, 218, 12],\n",
       " [210, 70, 132, 25, 133],\n",
       " [7, 176, 68, 125, 252],\n",
       " [123, 87, 115, 115, 83],\n",
       " [165, 71, 102, 85, 69]]"
      ]
     },
     "execution_count": 3,
     "metadata": {},
     "output_type": "execute_result"
    }
   ],
   "source": [
    "#Create mxn integer array and print attribute using matplotlib\n",
    "from matplotlib import pyplot as plt \n",
    "import random\n",
    "\n",
    "data = [[random.randint(0,256) for x in range(0,5)],\n",
    "        [random.randint(0,256) for x in range(0,5)],\n",
    "        [random.randint(0,256) for x in range(0,5)],\n",
    "        [random.randint(0,256) for x in range(0,5)],\n",
    "        [random.randint(0,256) for x in range(0,5)],\n",
    "        [random.randint(0,256) for x in range(0,5)]]\n",
    "data"
   ]
  },
  {
   "cell_type": "code",
   "execution_count": 4,
   "id": "f9e31e8f",
   "metadata": {},
   "outputs": [
    {
     "data": {
      "image/png": "[encoded data removed]",
      "text/plain": [
       "<Figure size 360x360 with 1 Axes>"
      ]
     },
     "metadata": {
      "needs_background": "light"
     },
     "output_type": "display_data"
    }
   ],
   "source": [
    "from matplotlib import pyplot as plt\n",
    "from matplotlib import colors\n",
    "\n",
    "plt.figure(figsize=(5, 5))\n",
    "plt.xlabel('X-axis with ticks', size=12)\n",
    "plt.ylabel('Y-axis with ticks', size=12)\n",
    "plt.title('This is the title of the plot', size=14)\n",
    "plt.xticks(size=14, color='red')\n",
    "plt.yticks(size=14, color='red')\n",
    "\n",
    "colorMap = colors.ListedColormap(['lightpink', 'darkblue'])\n",
    "plt.imshow(data, cmap=colorMap)\n",
    "\n",
    "plt.show()"
   ]
  },
  {
   "cell_type": "code",
   "execution_count": null,
   "id": "ae3d19af",
   "metadata": {},
   "outputs": [],
   "source": []
  }
 ],
 "metadata": {
  "kernelspec": {
   "display_name": "Python 3 (ipykernel)",
   "language": "python",
   "name": "python3"
  },
  "language_info": {
   "codemirror_mode": {
    "name": "ipython",
    "version": 3
   },
   "file_extension": ".py",
   "mimetype": "text/x-python",
   "name": "python",
   "nbconvert_exporter": "python",
   "pygments_lexer": "ipython3",
   "version": "3.9.7"
  }
 },
 "nbformat": 4,
 "nbformat_minor": 5
}
