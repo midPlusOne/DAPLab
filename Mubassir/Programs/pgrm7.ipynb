{
 "cells": [
  {
   "cell_type": "code",
   "execution_count": 10,
   "id": "1a545074",
   "metadata": {},
   "outputs": [
    {
     "data": {
      "text/plain": [
       "[[207, 12, 238, 170, 194],\n",
       " [86, 187, 98, 17, 58],\n",
       " [71, 55, 133, 105, 103],\n",
       " [85, 198, 116, 169, 62],\n",
       " [66, 181, 51, 182, 91],\n",
       " [174, 222, 16, 117, 34]]"
      ]
     },
     "execution_count": 10,
     "metadata": {},
     "output_type": "execute_result"
    }
   ],
   "source": [
    "from matplotlib import pyplot\n",
    "import random\n",
    "\n",
    "data = [[random.randint(0,256) for x in range(0,5)],\n",
    "        [random.randint(0,256) for x in range(0,5)],\n",
    "        [random.randint(0,256) for x in range(0,5)],\n",
    "        [random.randint(0,256) for x in range(0,5)],\n",
    "        [random.randint(0,256) for x in range(0,5)],\n",
    "        [random.randint(0,256) for x in range(0,5)]\n",
    "       ]\n",
    "\n",
    "data"
   ]
  },
  {
   "cell_type": "code",
   "execution_count": 11,
   "id": "a3bc319f",
   "metadata": {},
   "outputs": [
    {
     "data": {
      "text/plain": [
       "<matplotlib.image.AxesImage at 0x7f2673f2b1c0>"
      ]
     },
     "execution_count": 11,
     "metadata": {},
     "output_type": "execute_result"
    },
    {
     "data": {
      "image/png": "[encoded data removed]",
      "text/plain": [
       "<Figure size 360x360 with 1 Axes>"
      ]
     },
     "metadata": {
      "needs_background": "light"
     },
     "output_type": "display_data"
    }
   ],
   "source": [
    "from matplotlib import colors\n",
    "pyplot.figure(figsize = (5,5))\n",
    "pyplot.xlabel(\"X axis with ticks\",size = 12)\n",
    "pyplot.ylabel(\"Y axis with ticks\",size = 12)\n",
    "pyplot.title(\"This is the title of the plot\", size = 14)\n",
    "pyplot.xticks(size = 14, color = \"red\")\n",
    "pyplot.yticks(size = 14, color = \"red\")\n",
    "colormap = colors.ListedColormap([\"lightpink\", \"darkblue\"])\n",
    "pyplot.imshow(data, cmap = colormap)"
   ]
  },
  {
   "cell_type": "code",
   "execution_count": null,
   "id": "9dd9bd0b",
   "metadata": {},
   "outputs": [],
   "source": []
  }
 ],
 "metadata": {
  "kernelspec": {
   "display_name": "Python 3 (ipykernel)",
   "language": "python",
   "name": "python3"
  },
  "language_info": {
   "codemirror_mode": {
    "name": "ipython",
    "version": 3
   },
   "file_extension": ".py",
   "mimetype": "text/x-python",
   "name": "python",
   "nbconvert_exporter": "python",
   "pygments_lexer": "ipython3",
   "version": "3.9.7"
  }
 },
 "nbformat": 4,
 "nbformat_minor": 5
}
