{
 "cells": [
  {
   "cell_type": "code",
   "execution_count": 4,
   "id": "41fd351e",
   "metadata": {},
   "outputs": [
    {
     "name": "stdout",
     "output_type": "stream",
     "text": [
      "Enter the list size : 5\n",
      "Enter value for index {i+1} :1\n",
      "Enter value for index {i+1} :2\n",
      "Enter value for index {i+1} :3\n",
      "Enter value for index {i+1} :4\n",
      "Enter value for index {i+1} :5\n",
      "\n",
      "Given List :  [1, 2, 3, 4, 5]\n",
      "Enter the key to search : 1\n",
      "Item found at location,  1\n"
     ]
    }
   ],
   "source": [
    "def search(nums,key):\n",
    "    for i in range(len(nums)):\n",
    "        if(nums[i] == key):\n",
    "            return i;\n",
    "    return -1\n",
    "\n",
    "nums = []\n",
    "n = int(input(\"Enter the list size : \"))\n",
    "\n",
    "for i in range(0,n):\n",
    "    val = int(input(\"Enter value for index {i+1} :\"))\n",
    "    nums.append(val)\n",
    "    \n",
    "print(\"\\nGiven List : \",nums)\n",
    "key = int(input(\"Enter the key to search : \"))\n",
    "idx = search(nums,key)\n",
    "\n",
    "if idx == -1:\n",
    "    print(\"Item not found\")\n",
    "else:\n",
    "    print(\"Item found at location, \",idx+1)"
   ]
  },
  {
   "cell_type": "code",
   "execution_count": null,
   "id": "5993cb1a",
   "metadata": {},
   "outputs": [],
   "source": []
  }
 ],
 "metadata": {
  "kernelspec": {
   "display_name": "Python 3 (ipykernel)",
   "language": "python",
   "name": "python3"
  },
  "language_info": {
   "codemirror_mode": {
    "name": "ipython",
    "version": 3
   },
   "file_extension": ".py",
   "mimetype": "text/x-python",
   "name": "python",
   "nbconvert_exporter": "python",
   "pygments_lexer": "ipython3",
   "version": "3.9.7"
  }
 },
 "nbformat": 4,
 "nbformat_minor": 5
}
