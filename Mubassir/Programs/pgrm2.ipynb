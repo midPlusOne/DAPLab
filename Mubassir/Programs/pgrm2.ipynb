{
 "cells": [
  {
   "cell_type": "code",
   "execution_count": null,
   "id": "7ad47d42",
   "metadata": {},
   "outputs": [
    {
     "name": "stdout",
     "output_type": "stream",
     "text": [
      "Enter an element : 2\n",
      "[2]\n",
      "Do you want to insert more elements(0,1)1\n",
      "Enter an element : 4\n",
      "[2, 4]\n",
      "Do you want to insert more elements(0,1)1\n",
      "Enter an element : 1\n",
      "[1, 2, 4]\n"
     ]
    }
   ],
   "source": [
    "#program to insert an element into the sorted list\n",
    "\n",
    "lst = []\n",
    "flag = 1\n",
    "while(flag):\n",
    "    ele = int(input(\"Enter an element : \"))\n",
    "    j = len(lst) - 1\n",
    "    while(j >= 0):\n",
    "        if(ele > lst[j]):\n",
    "            break\n",
    "        j = j - 1\n",
    "    if(len(lst) == 0 or j == len(lst) - 1):\n",
    "        lst.append(ele)\n",
    "    else:\n",
    "        lst.insert(j+1, ele)\n",
    "    print(lst)\n",
    "    flag = int(input(\"Do you want to insert more elements(0,1)\"))\n",
    "\n"
   ]
  },
  {
   "cell_type": "code",
   "execution_count": null,
   "id": "9c794225",
   "metadata": {},
   "outputs": [],
   "source": []
  }
 ],
 "metadata": {
  "kernelspec": {
   "display_name": "Python 3 (ipykernel)",
   "language": "python",
   "name": "python3"
  },
  "language_info": {
   "codemirror_mode": {
    "name": "ipython",
    "version": 3
   },
   "file_extension": ".py",
   "mimetype": "text/x-python",
   "name": "python",
   "nbconvert_exporter": "python",
   "pygments_lexer": "ipython3",
   "version": "3.9.7"
  }
 },
 "nbformat": 4,
 "nbformat_minor": 5
}
