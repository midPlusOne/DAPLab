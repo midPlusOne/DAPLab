{
 "cells": [
  {
   "cell_type": "code",
   "execution_count": 10,
   "id": "fb8dfbd4",
   "metadata": {},
   "outputs": [
    {
     "name": "stdout",
     "output_type": "stream",
     "text": [
      "09:45:00\n",
      "01:35:00\n",
      "11:20:00\n"
     ]
    }
   ],
   "source": [
    "# Data encapsulation and overloading \n",
    "\n",
    "class Time:\n",
    "    def print_time(time):\n",
    "        print('%.2d:%.2d:%.2d' %(time.hour,time.minute,time.second))\n",
    "        \n",
    "    def __init__(self, hour = 0,minute = 0, second = 0):\n",
    "        self.hour = hour\n",
    "        self.minute = minute\n",
    "        self.second = second\n",
    "        \n",
    "    def __str__(time):\n",
    "        return '%.2d:%.2d:%.2d' %(time.hour,time.minute,time.second)\n",
    "    \n",
    "    def __add__(self,other):\n",
    "        seconds = self.time_to_int() + other.time_to_int()\n",
    "        return int_to_time(seconds)\n",
    "    \n",
    "    def time_to_int(time):\n",
    "        minutes = time.hour * 60 + time.minute\n",
    "        seconds = minutes * 60 + time.second\n",
    "        return seconds\n",
    "    \n",
    "def int_to_time(seconds):\n",
    "    time = Time()\n",
    "    minutes,time.second = divmod(seconds,60)\n",
    "    time.hour,time.minute = divmod(minutes,60)\n",
    "    return time\n",
    "\n",
    "start = Time(9,45)\n",
    "start.print_time()\n",
    "duration = Time(1,35)\n",
    "duration.print_time()\n",
    "print(start + duration)"
   ]
  },
  {
   "cell_type": "code",
   "execution_count": 17,
   "id": "f57144c4",
   "metadata": {},
   "outputs": [
    {
     "name": "stdout",
     "output_type": "stream",
     "text": [
      "Enter side1:12\n",
      "Enter side2:12\n",
      "Enter side3:12\n",
      "side 1 is 12.0\n",
      "side 2 is 12.0\n",
      "side 3 is 12.0\n",
      "The area of triangle is 62.35\n",
      "Enter side1:13\n",
      "Enter side2:13\n",
      "side 1 is 13.0\n",
      "side 2 is 13.0\n",
      "The area of rectangle is 169.00\n"
     ]
    }
   ],
   "source": [
    "#Demonstrate inheritance \n",
    "\n",
    "class Polygon:\n",
    "    def __init__(self,no_of_sides):\n",
    "        self.n = no_of_sides\n",
    "        self.sides = [0 for i in range(no_of_sides)]\n",
    "        \n",
    "    def inputsides(self):\n",
    "        self.sides = [float(input('Enter side' +str(i + 1)+':')) for i in range(self.n)]\n",
    "        \n",
    "    def dispsides(self):\n",
    "        for i in range(self.n):\n",
    "            print(\"side\", i+1,\"is\",self.sides[i])\n",
    "            \n",
    "class Triangle(Polygon):\n",
    "    def __init__(self):\n",
    "        Polygon.__init__(self,3)\n",
    "        \n",
    "    def findArea(self):\n",
    "        a,b,c = self.sides #calculate semi-perimeter\n",
    "        s = (a + b + c) / 2\n",
    "        area = (s * (s - a) * (s - b) * (s - c)) ** 0.5\n",
    "        print('The area of triangle is %0.2f'%area)\n",
    "        \n",
    "class Rectangle(Polygon):\n",
    "    def __init__(self):\n",
    "        Polygon.__init__(self,2)\n",
    "        \n",
    "    def findArea(self):\n",
    "        l,b = self.sides\n",
    "        area = l * b\n",
    "        print('The area of rectangle is %0.2f'%area)\n",
    "        \n",
    "\n",
    "t = Triangle()\n",
    "t.inputsides()\n",
    "t.dispsides()\n",
    "t.findArea()\n",
    "\n",
    "r = Rectangle()\n",
    "r.inputsides()\n",
    "r.dispsides()\n",
    "r.findArea()"
   ]
  }
 ],
 "metadata": {
  "kernelspec": {
   "display_name": "Python 3 (ipykernel)",
   "language": "python",
   "name": "python3"
  },
  "language_info": {
   "codemirror_mode": {
    "name": "ipython",
    "version": 3
   },
   "file_extension": ".py",
   "mimetype": "text/x-python",
   "name": "python",
   "nbconvert_exporter": "python",
   "pygments_lexer": "ipython3",
   "version": "3.9.7"
  }
 },
 "nbformat": 4,
 "nbformat_minor": 5
}
