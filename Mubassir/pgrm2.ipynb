{
 "cells": [
  {
   "cell_type": "code",
   "execution_count": 1,
   "id": "b6400f57",
   "metadata": {},
   "outputs": [
    {
     "name": "stdout",
     "output_type": "stream",
     "text": [
      "155\n",
      "155\n",
      "14.25\n"
     ]
    }
   ],
   "source": [
    "#operator precedence\n",
    "\n",
    "a = 5\n",
    "b = 10\n",
    "c = 15\n",
    "d = 20\n",
    "\n",
    "e = a + b *c\n",
    "print(e)\n",
    "\n",
    "e = a + (b *c)\n",
    "print(e)\n",
    "\n",
    "e = a + b - c / d\n",
    "print(e)"
   ]
  },
  {
   "cell_type": "code",
   "execution_count": null,
   "id": "1aba087b",
   "metadata": {},
   "outputs": [],
   "source": []
  }
 ],
 "metadata": {
  "kernelspec": {
   "display_name": "Python 3 (ipykernel)",
   "language": "python",
   "name": "python3"
  },
  "language_info": {
   "codemirror_mode": {
    "name": "ipython",
    "version": 3
   },
   "file_extension": ".py",
   "mimetype": "text/x-python",
   "name": "python",
   "nbconvert_exporter": "python",
   "pygments_lexer": "ipython3",
   "version": "3.9.7"
  }
 },
 "nbformat": 4,
 "nbformat_minor": 5
}
